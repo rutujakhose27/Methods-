{
 "cells": [
  {
   "cell_type": "code",
   "execution_count": 11,
   "id": "0e97a16a-7faf-429a-aaf6-c6a806ca45f3",
   "metadata": {},
   "outputs": [
    {
     "data": {
      "text/plain": [
       "dict"
      ]
     },
     "execution_count": 11,
     "metadata": {},
     "output_type": "execute_result"
    }
   ],
   "source": [
    "d={'Name':'Rutuja' , 'ID': 12345 , 'DOB': 2003 , 'Address' : 'Pune'}\n",
    "type(d)"
   ]
  },
  {
   "cell_type": "code",
   "execution_count": 12,
   "id": "17739bb6-ef7a-4c9f-bb76-ef1b368afa78",
   "metadata": {},
   "outputs": [
    {
     "name": "stdout",
     "output_type": "stream",
     "text": [
      "<class 'dict'>\n"
     ]
    }
   ],
   "source": [
    "d={'Name':'Rutuja' , 'ID': 12345 , 'DOB': 2003 , 'Address' : 'Pune'}\n",
    "print(type(d))"
   ]
  },
  {
   "cell_type": "code",
   "execution_count": 13,
   "id": "e2fec5df-e0ff-47e7-9e78-3765de2841c0",
   "metadata": {},
   "outputs": [
    {
     "name": "stdout",
     "output_type": "stream",
     "text": [
      "{'Name': 'Rutuja', 'ID': 12345, 'DOB': 2003, 'Address': 'Pune'}\n"
     ]
    }
   ],
   "source": [
    "print(d)"
   ]
  },
  {
   "cell_type": "code",
   "execution_count": 14,
   "id": "3112c759-d4e7-482a-b79e-e0ac6687e995",
   "metadata": {},
   "outputs": [],
   "source": [
    "d={'Name':'Rutuja' , 'ID': 12345 , 'DOB': 2003 , 'Address' : 'Pune'}"
   ]
  },
  {
   "cell_type": "code",
   "execution_count": 15,
   "id": "71c5e54c-e50f-4d89-95e5-ce251d0a8bc2",
   "metadata": {},
   "outputs": [
    {
     "data": {
      "text/plain": [
       "dict_keys(['Name', 'ID', 'DOB', 'Address'])"
      ]
     },
     "execution_count": 15,
     "metadata": {},
     "output_type": "execute_result"
    }
   ],
   "source": [
    "d.keys()"
   ]
  },
  {
   "cell_type": "code",
   "execution_count": 16,
   "id": "02050d36-a29c-4869-92b7-58ee151255c9",
   "metadata": {},
   "outputs": [
    {
     "data": {
      "text/plain": [
       "dict_values(['Rutuja', 12345, 2003, 'Pune'])"
      ]
     },
     "execution_count": 16,
     "metadata": {},
     "output_type": "execute_result"
    }
   ],
   "source": [
    "d.values()"
   ]
  },
  {
   "cell_type": "code",
   "execution_count": 17,
   "id": "fc4ed10a-0bb6-461c-9316-44bb55855e4d",
   "metadata": {},
   "outputs": [
    {
     "data": {
      "text/plain": [
       "dict_items([('Name', 'Rutuja'), ('ID', 12345), ('DOB', 2003), ('Address', 'Pune')])"
      ]
     },
     "execution_count": 17,
     "metadata": {},
     "output_type": "execute_result"
    }
   ],
   "source": [
    "d.items()"
   ]
  },
  {
   "cell_type": "code",
   "execution_count": 18,
   "id": "dbb17251-9922-4084-af9e-724472803150",
   "metadata": {},
   "outputs": [
    {
     "name": "stdout",
     "output_type": "stream",
     "text": [
      "[{1: 'one', 2: 'two', 'A': ['Data', 'Rutuja', 'Aditi']}]\n"
     ]
    }
   ],
   "source": [
    "d=[{1:'one'  ,  2:'two'  , 'A': ['Data'  ,  'Rutuja'  ,  'Aditi']}]\n",
    "print(d)"
   ]
  },
  {
   "cell_type": "code",
   "execution_count": 19,
   "id": "998da0bc-87e2-4943-b0d0-ba041eff0669",
   "metadata": {},
   "outputs": [
    {
     "ename": "TypeError",
     "evalue": "list indices must be integers or slices, not str",
     "output_type": "error",
     "traceback": [
      "\u001b[1;31m---------------------------------------------------------------------------\u001b[0m",
      "\u001b[1;31mTypeError\u001b[0m                                 Traceback (most recent call last)",
      "Cell \u001b[1;32mIn[19], line 1\u001b[0m\n\u001b[1;32m----> 1\u001b[0m d[\u001b[38;5;124m'\u001b[39m\u001b[38;5;124mA\u001b[39m\u001b[38;5;124m'\u001b[39m][\u001b[38;5;241m1\u001b[39m]\n",
      "\u001b[1;31mTypeError\u001b[0m: list indices must be integers or slices, not str"
     ]
    }
   ],
   "source": [
    "d['A'][1]"
   ]
  },
  {
   "cell_type": "code",
   "execution_count": 20,
   "id": "65474b72-475b-4e93-b9ad-b8ed77d4f77b",
   "metadata": {},
   "outputs": [
    {
     "name": "stdout",
     "output_type": "stream",
     "text": [
      "[0, 1, 2, 3, [4, {5: [87, 89, 90, {'area': 'kharadi', 'city': 'Pune'}]}]]\n"
     ]
    }
   ],
   "source": [
    "d=[0,1,2,3,[4,{5:[87,89,90,{'area':'kharadi','city':'Pune'}]}]]\n",
    "print(d)"
   ]
  },
  {
   "cell_type": "code",
   "execution_count": 21,
   "id": "8cafb12a-0114-43b6-baf5-d40830504761",
   "metadata": {},
   "outputs": [
    {
     "ename": "TypeError",
     "evalue": "list indices must be integers or slices, not str",
     "output_type": "error",
     "traceback": [
      "\u001b[1;31m---------------------------------------------------------------------------\u001b[0m",
      "\u001b[1;31mTypeError\u001b[0m                                 Traceback (most recent call last)",
      "Cell \u001b[1;32mIn[21], line 1\u001b[0m\n\u001b[1;32m----> 1\u001b[0m d[\u001b[38;5;124m'\u001b[39m\u001b[38;5;124marea\u001b[39m\u001b[38;5;124m'\u001b[39m]\n",
      "\u001b[1;31mTypeError\u001b[0m: list indices must be integers or slices, not str"
     ]
    }
   ],
   "source": [
    "d['area']"
   ]
  },
  {
   "cell_type": "code",
   "execution_count": 22,
   "id": "a7fe97c3-9c7d-4398-b57e-06ccb6326ec2",
   "metadata": {},
   "outputs": [],
   "source": [
    "d={'Name':'Rutuja' , 'ID': 12345 , 'DOB': 2003 , 'Address' : 'Pune'}"
   ]
  },
  {
   "cell_type": "code",
   "execution_count": 23,
   "id": "267b5a91-ff69-48be-bd06-b37281248b84",
   "metadata": {},
   "outputs": [],
   "source": [
    "d.update({'profesion':'pharmacist'})"
   ]
  },
  {
   "cell_type": "code",
   "execution_count": 24,
   "id": "9bb31c63-7b8e-40c7-977a-006a6d3946fd",
   "metadata": {},
   "outputs": [
    {
     "name": "stdout",
     "output_type": "stream",
     "text": [
      "{'Name': 'Rutuja', 'ID': 12345, 'DOB': 1992, 'Address': 'Pune', 'profesion': 'pharmacist'}\n"
     ]
    }
   ],
   "source": [
    "d['DOB'] = 1992\n",
    "print(d)"
   ]
  },
  {
   "cell_type": "code",
   "execution_count": 25,
   "id": "86c40963-fec2-49cf-bdca-e9a5199b2d2a",
   "metadata": {},
   "outputs": [
    {
     "name": "stdout",
     "output_type": "stream",
     "text": [
      "{'Name': 'Rutuja', 'ID': 12345, 'DOB': 1992, 'Address': 'Pune', 'profesion': 'pharmacist', 'ABC': 1}\n"
     ]
    }
   ],
   "source": [
    "d['ABC']=1\n",
    "print(d)"
   ]
  },
  {
   "cell_type": "code",
   "execution_count": 26,
   "id": "c09a44ed-7fd6-45c8-9d5c-6229518bc072",
   "metadata": {},
   "outputs": [
    {
     "name": "stdout",
     "output_type": "stream",
     "text": [
      "{'Name': 'Rutuja', 'ID': 12345, 'DOB': 1992, 'Address': 'Pune', 'profesion': 'pharmacist', 'ABC': 1, 'Job': 'Analyst'}\n"
     ]
    }
   ],
   "source": [
    "d['Job'] = 'Analyst'\n",
    "print(d)"
   ]
  },
  {
   "cell_type": "code",
   "execution_count": 27,
   "id": "c5d2f03c-09c3-4130-a24d-1ba762b13530",
   "metadata": {},
   "outputs": [
    {
     "data": {
      "text/plain": [
       "'Analyst'"
      ]
     },
     "execution_count": 27,
     "metadata": {},
     "output_type": "execute_result"
    }
   ],
   "source": [
    "d.pop('Job')"
   ]
  },
  {
   "cell_type": "code",
   "execution_count": 28,
   "id": "2f06343a-a376-4dfd-afc4-5a330802e757",
   "metadata": {},
   "outputs": [
    {
     "name": "stdout",
     "output_type": "stream",
     "text": [
      "{'Name': 'Rutuja', 'ID': 12345, 'DOB': 1992, 'profesion': 'pharmacist', 'ABC': 1}\n"
     ]
    }
   ],
   "source": [
    "del[d['Address']]\n",
    "print(d)"
   ]
  },
  {
   "cell_type": "code",
   "execution_count": 29,
   "id": "6651be8c-1487-45c9-b9d6-58718d54166d",
   "metadata": {},
   "outputs": [
    {
     "data": {
      "text/plain": [
       "('ABC', 1)"
      ]
     },
     "execution_count": 29,
     "metadata": {},
     "output_type": "execute_result"
    }
   ],
   "source": [
    "d.popitem()"
   ]
  },
  {
   "cell_type": "code",
   "execution_count": 30,
   "id": "5a4f63cc-8a3b-40aa-9553-b8891aba5d41",
   "metadata": {},
   "outputs": [
    {
     "name": "stdout",
     "output_type": "stream",
     "text": [
      "{}\n"
     ]
    }
   ],
   "source": [
    "d.clear() \n",
    "print(d)"
   ]
  },
  {
   "cell_type": "code",
   "execution_count": 31,
   "id": "8045f404-aed2-4fdd-854b-4cf3874f1759",
   "metadata": {},
   "outputs": [
    {
     "ename": "NameError",
     "evalue": "name 'd' is not defined",
     "output_type": "error",
     "traceback": [
      "\u001b[1;31m---------------------------------------------------------------------------\u001b[0m",
      "\u001b[1;31mNameError\u001b[0m                                 Traceback (most recent call last)",
      "Cell \u001b[1;32mIn[31], line 2\u001b[0m\n\u001b[0;32m      1\u001b[0m \u001b[38;5;28;01mdel\u001b[39;00m d\n\u001b[1;32m----> 2\u001b[0m \u001b[38;5;28mprint\u001b[39m(d)\n",
      "\u001b[1;31mNameError\u001b[0m: name 'd' is not defined"
     ]
    }
   ],
   "source": [
    "del d\n",
    "print(d)"
   ]
  },
  {
   "cell_type": "code",
   "execution_count": null,
   "id": "9d0266f7-f412-44d4-8b2f-d5379bb5187f",
   "metadata": {},
   "outputs": [],
   "source": []
  }
 ],
 "metadata": {
  "kernelspec": {
   "display_name": "Python 3 (ipykernel)",
   "language": "python",
   "name": "python3"
  },
  "language_info": {
   "codemirror_mode": {
    "name": "ipython",
    "version": 3
   },
   "file_extension": ".py",
   "mimetype": "text/x-python",
   "name": "python",
   "nbconvert_exporter": "python",
   "pygments_lexer": "ipython3",
   "version": "3.13.5"
  }
 },
 "nbformat": 4,
 "nbformat_minor": 5
}
