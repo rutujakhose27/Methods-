{
 "cells": [
  {
   "cell_type": "code",
   "execution_count": 9,
   "id": "bdea028f-cdd5-402a-bb47-c148d3f5d0b6",
   "metadata": {},
   "outputs": [],
   "source": [
    "s={1,2,3,4,5,6,7,8,9,10}"
   ]
  },
  {
   "cell_type": "code",
   "execution_count": 2,
   "id": "3aa76214-e3ba-4972-a288-b2f2f9895ff0",
   "metadata": {},
   "outputs": [
    {
     "data": {
      "text/plain": [
       "set"
      ]
     },
     "execution_count": 2,
     "metadata": {},
     "output_type": "execute_result"
    }
   ],
   "source": [
    "type(s)"
   ]
  },
  {
   "cell_type": "code",
   "execution_count": 3,
   "id": "628a865a-1f0b-4f6f-8060-a984e62a24d6",
   "metadata": {},
   "outputs": [
    {
     "name": "stdout",
     "output_type": "stream",
     "text": [
      "<class 'set'>\n"
     ]
    }
   ],
   "source": [
    "print(type(s))"
   ]
  },
  {
   "cell_type": "code",
   "execution_count": 4,
   "id": "9b1832f8-3e05-4805-8f78-43a52213da43",
   "metadata": {},
   "outputs": [
    {
     "name": "stdout",
     "output_type": "stream",
     "text": [
      "{1, 2, 3, 4, 5, 6, 7, 8, 9, 10}\n"
     ]
    }
   ],
   "source": [
    "print(s)"
   ]
  },
  {
   "cell_type": "code",
   "execution_count": 7,
   "id": "3ecbda4d-404f-46f4-b15c-577bbf7b4eb1",
   "metadata": {},
   "outputs": [
    {
     "name": "stdout",
     "output_type": "stream",
     "text": [
      "{1, 2, 3, 4, 5, 6, 7, 8, 9, 10, 110}\n"
     ]
    }
   ],
   "source": [
    "#Adds a single element\n",
    "s.add(110)\n",
    "print(s)"
   ]
  },
  {
   "cell_type": "code",
   "execution_count": 8,
   "id": "6e9c7aa1-3874-4ddb-ac96-d242a8441e5c",
   "metadata": {},
   "outputs": [
    {
     "name": "stdout",
     "output_type": "stream",
     "text": [
      "{1, 2, 3, 4, 5, 6, 7, 8, 9, 10, 130, 110, 120}\n"
     ]
    }
   ],
   "source": [
    "#Adds multiple elements (from iterable)\n",
    "s.update([120,130])\n",
    "print(s)"
   ]
  },
  {
   "cell_type": "code",
   "execution_count": 9,
   "id": "188f76b6-2cb4-4e2d-9136-bbe0390cedbe",
   "metadata": {},
   "outputs": [
    {
     "name": "stdout",
     "output_type": "stream",
     "text": [
      "{1, 2, 3, 5, 6, 7, 8, 9, 10, 130, 110, 120}\n"
     ]
    }
   ],
   "source": [
    "#Removes specified element (raises error if not found)\n",
    "s.remove(4)\n",
    "print(s)"
   ]
  },
  {
   "cell_type": "code",
   "execution_count": 11,
   "id": "4f4d1215-0e0a-49cf-912c-eec6f2198236",
   "metadata": {},
   "outputs": [
    {
     "name": "stdout",
     "output_type": "stream",
     "text": [
      "{1, 2, 5, 6, 7, 8, 9, 10, 130, 110, 120}\n"
     ]
    }
   ],
   "source": [
    "#Removes specified element (no error if not found)\n",
    "s.discard(3)\n",
    "print(s)"
   ]
  },
  {
   "cell_type": "code",
   "execution_count": 12,
   "id": "b58f58b2-6e42-4af2-ad0f-75c0d958aa65",
   "metadata": {},
   "outputs": [
    {
     "name": "stdout",
     "output_type": "stream",
     "text": [
      "{2, 5, 6, 7, 8, 9, 10, 130, 110, 120}\n"
     ]
    }
   ],
   "source": [
    "#Removes and returns a random element\t\n",
    "s.pop()\n",
    "print(s)"
   ]
  },
  {
   "cell_type": "code",
   "execution_count": 13,
   "id": "ee6e1cb6-c04e-41e6-9144-b39988b4a755",
   "metadata": {},
   "outputs": [
    {
     "name": "stdout",
     "output_type": "stream",
     "text": [
      "{2, 130, 5, 6, 7, 8, 9, 10, 110, 120}\n"
     ]
    }
   ],
   "source": [
    "#Returns a shallow copy\n",
    "s2 = s.copy()\n",
    "print(s2)"
   ]
  },
  {
   "cell_type": "code",
   "execution_count": 33,
   "id": "84792db3-c7f8-4173-ae65-9865f01be291",
   "metadata": {},
   "outputs": [],
   "source": [
    "s={1,2,3,4,5,6,7,8,9,10}\n",
    "s1={6,7,8,9,10,6,8,9,6,7}"
   ]
  },
  {
   "cell_type": "code",
   "execution_count": 28,
   "id": "96a52d23-c339-40ea-861e-02e92a2b610f",
   "metadata": {},
   "outputs": [
    {
     "data": {
      "text/plain": [
       "{1, 2, 3, 4, 5, 6, 7, 8, 9, 10}"
      ]
     },
     "execution_count": 28,
     "metadata": {},
     "output_type": "execute_result"
    }
   ],
   "source": [
    "#Returns union of sets\n",
    "s.union(s1)"
   ]
  },
  {
   "cell_type": "code",
   "execution_count": 29,
   "id": "fd7ce499-5fea-4e65-8645-1a915eafe32b",
   "metadata": {},
   "outputs": [
    {
     "data": {
      "text/plain": [
       "{6, 7, 8, 9, 10}"
      ]
     },
     "execution_count": 29,
     "metadata": {},
     "output_type": "execute_result"
    }
   ],
   "source": [
    "#Returns common elements\n",
    "s.intersection(s1)"
   ]
  },
  {
   "cell_type": "code",
   "execution_count": 30,
   "id": "a19ab7ba-25d8-4a3b-a77b-9cc5c14f5694",
   "metadata": {},
   "outputs": [
    {
     "data": {
      "text/plain": [
       "{1, 2, 3, 4, 5}"
      ]
     },
     "execution_count": 30,
     "metadata": {},
     "output_type": "execute_result"
    }
   ],
   "source": [
    "s.difference(s1)"
   ]
  },
  {
   "cell_type": "code",
   "execution_count": 31,
   "id": "6b5562c9-84ff-4532-9226-031e143950c8",
   "metadata": {},
   "outputs": [
    {
     "data": {
      "text/plain": [
       "{1, 2, 3, 4, 5}"
      ]
     },
     "execution_count": 31,
     "metadata": {},
     "output_type": "execute_result"
    }
   ],
   "source": [
    "#Elements in either s or s1 but not both\n",
    "s.symmetric_difference(s1)"
   ]
  },
  {
   "cell_type": "code",
   "execution_count": 36,
   "id": "b2ac27e7-72e2-468d-9486-8070f344a1e0",
   "metadata": {},
   "outputs": [
    {
     "data": {
      "text/plain": [
       "True"
      ]
     },
     "execution_count": 36,
     "metadata": {},
     "output_type": "execute_result"
    }
   ],
   "source": [
    "#Checks if one set is a subset of another\n",
    "s={1,2,3}\n",
    "s1={1,2}\n",
    "s1.issubset(s)"
   ]
  },
  {
   "cell_type": "code",
   "execution_count": 38,
   "id": "5a613bfc-8500-4a3f-967c-55bea5b0349b",
   "metadata": {},
   "outputs": [
    {
     "data": {
      "text/plain": [
       "False"
      ]
     },
     "execution_count": 38,
     "metadata": {},
     "output_type": "execute_result"
    }
   ],
   "source": [
    "#Checks if one set is a superset of another\n",
    "s={1,2,3,4,5}\n",
    "s1={2,3,4,5,6,7}\n",
    "s1.issuperset(s)"
   ]
  },
  {
   "cell_type": "code",
   "execution_count": 43,
   "id": "b6ed36e2-5f62-4f38-bf20-4e227034f155",
   "metadata": {},
   "outputs": [
    {
     "data": {
      "text/plain": [
       "True"
      ]
     },
     "execution_count": 43,
     "metadata": {},
     "output_type": "execute_result"
    }
   ],
   "source": [
    "#Checks if two sets have no elements in common\n",
    "s={1,2,3,4,5}\n",
    "s1={6,7,8,9}\n",
    "s1.isdisjoint(s)"
   ]
  },
  {
   "cell_type": "code",
   "execution_count": 42,
   "id": "f1a11434-951e-4f4f-87a5-8eac05a5e813",
   "metadata": {},
   "outputs": [
    {
     "name": "stdout",
     "output_type": "stream",
     "text": [
      "set()\n"
     ]
    }
   ],
   "source": [
    "#clear\n",
    "s={1,2,3,4,5,6,7}\n",
    "s.clear()\n",
    "print(s)"
   ]
  },
  {
   "cell_type": "code",
   "execution_count": 2,
   "id": "96ab318c-2b95-440b-ba1f-aaf4b523a4a0",
   "metadata": {},
   "outputs": [
    {
     "data": {
      "text/plain": [
       "10"
      ]
     },
     "execution_count": 2,
     "metadata": {},
     "output_type": "execute_result"
    }
   ],
   "source": [
    "len(s)"
   ]
  },
  {
   "cell_type": "code",
   "execution_count": 6,
   "id": "7d72e7a7-298f-4fbb-90e2-c1306e029bcf",
   "metadata": {},
   "outputs": [],
   "source": [
    "del s"
   ]
  },
  {
   "cell_type": "code",
   "execution_count": null,
   "id": "d2d1bbdb-8171-4b94-9c8a-7f1beb8f8f49",
   "metadata": {},
   "outputs": [],
   "source": []
  }
 ],
 "metadata": {
  "kernelspec": {
   "display_name": "Python 3 (ipykernel)",
   "language": "python",
   "name": "python3"
  },
  "language_info": {
   "codemirror_mode": {
    "name": "ipython",
    "version": 3
   },
   "file_extension": ".py",
   "mimetype": "text/x-python",
   "name": "python",
   "nbconvert_exporter": "python",
   "pygments_lexer": "ipython3",
   "version": "3.13.5"
  }
 },
 "nbformat": 4,
 "nbformat_minor": 5
}
