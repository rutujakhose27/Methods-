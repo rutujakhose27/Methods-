{
 "cells": [
  {
   "cell_type": "code",
   "execution_count": 1,
   "id": "0f83b302-7564-4dce-bb4b-42352da7ffbd",
   "metadata": {},
   "outputs": [
    {
     "name": "stdout",
     "output_type": "stream",
     "text": [
      "[10, 20, 30, 40, 50]\n",
      "<class 'list'>\n"
     ]
    }
   ],
   "source": [
    "l1=[10,20,30,40,50]\n",
    "print(l1)\n",
    "print(type(l1))"
   ]
  },
  {
   "cell_type": "code",
   "execution_count": 2,
   "id": "b51d289a-8052-4e78-9c2c-3e295855ddc7",
   "metadata": {},
   "outputs": [
    {
     "name": "stdout",
     "output_type": "stream",
     "text": [
      "[10, 20, 30, 40, 50]\n"
     ]
    },
    {
     "data": {
      "text/plain": [
       "list"
      ]
     },
     "execution_count": 2,
     "metadata": {},
     "output_type": "execute_result"
    }
   ],
   "source": [
    "l1=[10,20,30,40,50]\n",
    "print(l1)\n",
    "type(l1)"
   ]
  },
  {
   "cell_type": "code",
   "execution_count": 6,
   "id": "c92f907a-f469-44d8-a626-ef4f7af8e3f1",
   "metadata": {},
   "outputs": [],
   "source": [
    "l1=[10,20,30,40,50,60,70,80,90]"
   ]
  },
  {
   "cell_type": "code",
   "execution_count": 3,
   "id": "f55571c7-2b09-4ac2-804f-17f4567511ed",
   "metadata": {},
   "outputs": [
    {
     "name": "stdout",
     "output_type": "stream",
     "text": [
      "30\n"
     ]
    }
   ],
   "source": [
    "print(l1[2])"
   ]
  },
  {
   "cell_type": "code",
   "execution_count": 4,
   "id": "00ed9272-1b01-4c08-81a7-a5f6fab895c6",
   "metadata": {},
   "outputs": [
    {
     "name": "stdout",
     "output_type": "stream",
     "text": [
      "90\n"
     ]
    }
   ],
   "source": [
    "print(l1[-1])"
   ]
  },
  {
   "cell_type": "code",
   "execution_count": 5,
   "id": "e994a016-fbf6-41f9-b075-5f560cb76b78",
   "metadata": {},
   "outputs": [
    {
     "name": "stdout",
     "output_type": "stream",
     "text": [
      "[20, 30, 40, 50, 60]\n"
     ]
    }
   ],
   "source": [
    "print(l1[1:6:1])"
   ]
  },
  {
   "cell_type": "code",
   "execution_count": 8,
   "id": "d123cbe0-a4c7-462a-9682-e8998ca4796a",
   "metadata": {},
   "outputs": [
    {
     "name": "stdout",
     "output_type": "stream",
     "text": [
      "[20, 30, 40, 50, 60, 70]\n"
     ]
    }
   ],
   "source": [
    "print(l1[1:7])"
   ]
  },
  {
   "cell_type": "code",
   "execution_count": 7,
   "id": "e9a0a46e-1995-40bf-9234-869b7cbe7520",
   "metadata": {},
   "outputs": [
    {
     "name": "stdout",
     "output_type": "stream",
     "text": [
      "[10, 20, 30, 40, 50, 60, 70, 80, 90]\n"
     ]
    }
   ],
   "source": [
    "print(l1[:])"
   ]
  },
  {
   "cell_type": "code",
   "execution_count": 9,
   "id": "f856f7ba-8e36-4824-8245-6b884f2f1eed",
   "metadata": {},
   "outputs": [
    {
     "name": "stdout",
     "output_type": "stream",
     "text": [
      "[]\n"
     ]
    }
   ],
   "source": [
    "print(l1[-1:-5])"
   ]
  },
  {
   "cell_type": "code",
   "execution_count": 10,
   "id": "a921d5cd-3990-469e-9dc2-b4ff1b9f823c",
   "metadata": {},
   "outputs": [
    {
     "name": "stdout",
     "output_type": "stream",
     "text": [
      "[]\n"
     ]
    }
   ],
   "source": [
    "print(l1[-1:-5:1])"
   ]
  },
  {
   "cell_type": "code",
   "execution_count": 12,
   "id": "6391cbde-b602-4ad8-b3b5-7962e9b95184",
   "metadata": {},
   "outputs": [
    {
     "name": "stdout",
     "output_type": "stream",
     "text": [
      "[90, 80, 70, 60, 50, 40]\n"
     ]
    }
   ],
   "source": [
    "print(l1[-1:-7:-1])"
   ]
  },
  {
   "cell_type": "code",
   "execution_count": 13,
   "id": "8dd7faa7-e70f-411f-8053-2c9708677c10",
   "metadata": {},
   "outputs": [
    {
     "name": "stdout",
     "output_type": "stream",
     "text": [
      "[90, 80, 70, 60, 50, 40, 30, 20, 10]\n"
     ]
    }
   ],
   "source": [
    "print(l1[::-1])"
   ]
  },
  {
   "cell_type": "code",
   "execution_count": 14,
   "id": "58c1dc05-ccba-487d-91e1-7ace9d98a8b7",
   "metadata": {},
   "outputs": [
    {
     "name": "stdout",
     "output_type": "stream",
     "text": [
      "[10, 20, 30, 40, 50, 60, 70, 80, 90]\n"
     ]
    }
   ],
   "source": [
    "print(l1[::1])"
   ]
  },
  {
   "cell_type": "code",
   "execution_count": 15,
   "id": "3f31b521-2ffc-4675-a019-8c2f056da887",
   "metadata": {},
   "outputs": [
    {
     "name": "stdout",
     "output_type": "stream",
     "text": [
      "[10, 30, 50, 70, 90]\n"
     ]
    }
   ],
   "source": [
    "print(l1[::2])"
   ]
  },
  {
   "cell_type": "code",
   "execution_count": 2,
   "id": "688b3eaf-7c53-4bf4-95d2-cb7aeb65d0e1",
   "metadata": {},
   "outputs": [],
   "source": [
    "#some common methods of list"
   ]
  },
  {
   "cell_type": "code",
   "execution_count": 7,
   "id": "6bd076a4-4780-4f22-a97a-a338d4932849",
   "metadata": {},
   "outputs": [
    {
     "name": "stdout",
     "output_type": "stream",
     "text": [
      "[10, 20, 30, 40, 50, 60, 70, 80, 90]\n"
     ]
    }
   ],
   "source": [
    "len(l1)\n",
    "print(l1)"
   ]
  },
  {
   "cell_type": "code",
   "execution_count": 8,
   "id": "d354fb6d-a6ae-4c7f-8b1e-0f0f3801f52a",
   "metadata": {},
   "outputs": [
    {
     "name": "stdout",
     "output_type": "stream",
     "text": [
      "[10, 20, 30, 40, 50, 60, 70, 80, 90, 200]\n"
     ]
    }
   ],
   "source": [
    "#Adds the end of the list\n",
    "l1.append(200)\n",
    "print(l1)"
   ]
  },
  {
   "cell_type": "code",
   "execution_count": 9,
   "id": "0ef94522-400c-409f-89f5-5a8e9ae7f3bb",
   "metadata": {},
   "outputs": [
    {
     "name": "stdout",
     "output_type": "stream",
     "text": [
      "[10, 20, 30, 180, 40, 50, 60, 70, 80, 90, 200]\n"
     ]
    }
   ],
   "source": [
    "#insert\n",
    "l1.insert(3,180)\n",
    "print(l1)"
   ]
  },
  {
   "cell_type": "code",
   "execution_count": 10,
   "id": "95791f44-8a48-4d24-95aa-f6f9fb56c0f6",
   "metadata": {},
   "outputs": [
    {
     "name": "stdout",
     "output_type": "stream",
     "text": [
      "[10, 20, 30, 180, 40, 50, 60, 70, 80, 90, 200, 100, 110, 120, 130, 140]\n"
     ]
    }
   ],
   "source": [
    "#Adds elements of iterable to the end\n",
    "l1.extend([100,110,120,130,140])\n",
    "print(l1)"
   ]
  },
  {
   "cell_type": "code",
   "execution_count": 11,
   "id": "00d8c120-1216-4a23-bfc7-b4ccba28cba1",
   "metadata": {},
   "outputs": [
    {
     "name": "stdout",
     "output_type": "stream",
     "text": [
      "[10, 20, 30, 180, 50, 60, 70, 80, 90, 200, 100, 110, 120, 130, 140]\n"
     ]
    }
   ],
   "source": [
    "#Removes and returns element at index(last if not given)\n",
    "l1.pop(4)\n",
    "print(l1)"
   ]
  },
  {
   "cell_type": "code",
   "execution_count": 12,
   "id": "8f1b17ae-051d-4bfa-8764-9142f297b098",
   "metadata": {},
   "outputs": [
    {
     "name": "stdout",
     "output_type": "stream",
     "text": [
      "[10, 20, 30, 180, 50, 60, 80, 90, 200, 100, 110, 120, 130, 140]\n"
     ]
    }
   ],
   "source": [
    "#Removes first occurrence \n",
    "l1.remove(70)\n",
    "print(l1)"
   ]
  },
  {
   "cell_type": "code",
   "execution_count": 34,
   "id": "19f47373-2754-4b46-9353-e103918095cb",
   "metadata": {},
   "outputs": [
    {
     "name": "stdout",
     "output_type": "stream",
     "text": [
      "[10, 20, 30, 180, 50, 80, 90, 100, 110, 120, 130, 140]\n"
     ]
    }
   ],
   "source": [
    "del l1[5]\n",
    "print(l1)"
   ]
  },
  {
   "cell_type": "code",
   "execution_count": 13,
   "id": "82fe51bd-4031-4103-b513-efafa471f5fa",
   "metadata": {},
   "outputs": [],
   "source": [
    "l1=[10,20,30,40,50,60,70,80,90,100]"
   ]
  },
  {
   "cell_type": "code",
   "execution_count": 26,
   "id": "ea2f4006-fea3-429e-aaf7-0210a73c34ee",
   "metadata": {},
   "outputs": [
    {
     "data": {
      "text/plain": [
       "4"
      ]
     },
     "execution_count": 26,
     "metadata": {},
     "output_type": "execute_result"
    }
   ],
   "source": [
    "#Returns first index \n",
    "l1.index(50)"
   ]
  },
  {
   "cell_type": "code",
   "execution_count": 25,
   "id": "4f92b8e4-7a15-4b91-939e-792951db0a5d",
   "metadata": {},
   "outputs": [
    {
     "data": {
      "text/plain": [
       "1"
      ]
     },
     "execution_count": 25,
     "metadata": {},
     "output_type": "execute_result"
    }
   ],
   "source": [
    "#Returns number of times x occurs\n",
    "l1.count(40)"
   ]
  },
  {
   "cell_type": "code",
   "execution_count": 22,
   "id": "a372e4ab-9a2c-4940-945a-41e72aab991b",
   "metadata": {},
   "outputs": [
    {
     "name": "stdout",
     "output_type": "stream",
     "text": [
      "[10, 20, 30, 40, 50, 60, 70, 80, 90, 100]\n"
     ]
    }
   ],
   "source": [
    "#Sorts the list in ascending order (in-place)\n",
    "l1.sort()\n",
    "print(l1)"
   ]
  },
  {
   "cell_type": "code",
   "execution_count": 27,
   "id": "2714c1bb-0a6b-4a5b-a0f2-3b7f67e44961",
   "metadata": {},
   "outputs": [
    {
     "name": "stdout",
     "output_type": "stream",
     "text": [
      "[100, 90, 80, 70, 60, 50, 40, 30, 20, 10]\n"
     ]
    }
   ],
   "source": [
    "#Reverses the list in-place\n",
    "l1.reverse()\n",
    "print(l1)"
   ]
  },
  {
   "cell_type": "code",
   "execution_count": 29,
   "id": "9551e858-e215-4d10-b014-2353c5c91e7d",
   "metadata": {},
   "outputs": [
    {
     "name": "stdout",
     "output_type": "stream",
     "text": [
      "[100, 90, 80, 70, 60, 50, 40, 30, 20, 10]\n"
     ]
    }
   ],
   "source": [
    "#Returns a shallow copy of the list\n",
    "l2=l1.copy()\n",
    "print(l2)"
   ]
  },
  {
   "cell_type": "code",
   "execution_count": 30,
   "id": "96664d37-2de8-4028-8da2-0f9436947524",
   "metadata": {},
   "outputs": [
    {
     "name": "stdout",
     "output_type": "stream",
     "text": [
      "[]\n"
     ]
    }
   ],
   "source": [
    "#Removes all elements\n",
    "l1.clear()\n",
    "print(l1)"
   ]
  },
  {
   "cell_type": "code",
   "execution_count": 7,
   "id": "e920127b-4ae2-4723-97b1-6c9b9c0d7ded",
   "metadata": {},
   "outputs": [
    {
     "name": "stdout",
     "output_type": "stream",
     "text": [
      "True\n",
      "True\n"
     ]
    }
   ],
   "source": [
    "l1=[10, 20, 30, 40, 50, 60, 70, 80, 90]\n",
    "\n",
    "print(any(l1))\n",
    "\n",
    "print(all(l1))"
   ]
  },
  {
   "cell_type": "code",
   "execution_count": null,
   "id": "a0495711-57b9-4460-bdf8-4911d9b9e49e",
   "metadata": {},
   "outputs": [],
   "source": []
  },
  {
   "cell_type": "code",
   "execution_count": null,
   "id": "90c7f295-62d5-449b-89af-e0b0e362155f",
   "metadata": {},
   "outputs": [],
   "source": []
  }
 ],
 "metadata": {
  "kernelspec": {
   "display_name": "Python 3 (ipykernel)",
   "language": "python",
   "name": "python3"
  },
  "language_info": {
   "codemirror_mode": {
    "name": "ipython",
    "version": 3
   },
   "file_extension": ".py",
   "mimetype": "text/x-python",
   "name": "python",
   "nbconvert_exporter": "python",
   "pygments_lexer": "ipython3",
   "version": "3.13.5"
  }
 },
 "nbformat": 4,
 "nbformat_minor": 5
}
