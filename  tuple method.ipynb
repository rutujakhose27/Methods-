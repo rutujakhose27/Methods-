{
 "cells": [
  {
   "cell_type": "code",
   "execution_count": 9,
   "id": "bd807325-6b61-4a07-bbc1-41e9047ca1c5",
   "metadata": {},
   "outputs": [
    {
     "data": {
      "text/plain": [
       "tuple"
      ]
     },
     "execution_count": 9,
     "metadata": {},
     "output_type": "execute_result"
    }
   ],
   "source": [
    "t=(1,2,3,4,5,6,7,8,9,10)\n",
    "type(t)"
   ]
  },
  {
   "cell_type": "code",
   "execution_count": 10,
   "id": "27f0f4a2-4614-43a2-b149-44cc62fd2d41",
   "metadata": {},
   "outputs": [
    {
     "name": "stdout",
     "output_type": "stream",
     "text": [
      "(1, 2, 3, 4, 5, 6, 7, 8, 9, 10)\n",
      "<class 'tuple'>\n"
     ]
    }
   ],
   "source": [
    "t=(1, 2, 3, 4, 5, 6, 7, 8, 9, 10)\n",
    "print(t)\n",
    "print(type(t))"
   ]
  },
  {
   "cell_type": "code",
   "execution_count": 2,
   "id": "601f15e4-9bc8-48ff-945f-1d70ce174cfa",
   "metadata": {},
   "outputs": [],
   "source": [
    "t=(1,2,3,4,5,6,7,8,9,10)"
   ]
  },
  {
   "cell_type": "code",
   "execution_count": 3,
   "id": "491c62b7-cedb-4cfe-90c7-c216b248b1a7",
   "metadata": {},
   "outputs": [
    {
     "name": "stdout",
     "output_type": "stream",
     "text": [
      "3\n"
     ]
    }
   ],
   "source": [
    "print(t[2])"
   ]
  },
  {
   "cell_type": "code",
   "execution_count": 15,
   "id": "a1844dd7-0b21-4748-8773-d272a0d09c66",
   "metadata": {},
   "outputs": [
    {
     "name": "stdout",
     "output_type": "stream",
     "text": [
      "7\n"
     ]
    }
   ],
   "source": [
    "print(t[-4])"
   ]
  },
  {
   "cell_type": "code",
   "execution_count": 17,
   "id": "c1f54c22-1d62-42f3-851a-6f1643d11827",
   "metadata": {},
   "outputs": [
    {
     "name": "stdout",
     "output_type": "stream",
     "text": [
      "(2, 3, 4, 5)\n"
     ]
    }
   ],
   "source": [
    "print(t[1:5:1])"
   ]
  },
  {
   "cell_type": "code",
   "execution_count": 18,
   "id": "ceab2c72-55d5-433e-8638-04667364c1e6",
   "metadata": {},
   "outputs": [
    {
     "name": "stdout",
     "output_type": "stream",
     "text": [
      "(2, 3, 4, 5, 6)\n"
     ]
    }
   ],
   "source": [
    "print(t[1:6])"
   ]
  },
  {
   "cell_type": "code",
   "execution_count": 19,
   "id": "e9f2dfb8-ccef-474f-b252-897c27de60e9",
   "metadata": {},
   "outputs": [
    {
     "name": "stdout",
     "output_type": "stream",
     "text": [
      "(1, 2, 3, 4, 5, 6, 7, 8, 9, 10)\n"
     ]
    }
   ],
   "source": [
    "print(t[:])"
   ]
  },
  {
   "cell_type": "code",
   "execution_count": 20,
   "id": "8bec94f1-df8b-44f8-9e89-a0b3f7daf2ea",
   "metadata": {},
   "outputs": [
    {
     "name": "stdout",
     "output_type": "stream",
     "text": [
      "()\n"
     ]
    }
   ],
   "source": [
    "print(t[-1:-4])"
   ]
  },
  {
   "cell_type": "code",
   "execution_count": 21,
   "id": "14089c63-e999-4b31-98b4-b9eb91836a4f",
   "metadata": {},
   "outputs": [
    {
     "name": "stdout",
     "output_type": "stream",
     "text": [
      "()\n"
     ]
    }
   ],
   "source": [
    "print(t[-1:-5:1])"
   ]
  },
  {
   "cell_type": "code",
   "execution_count": 22,
   "id": "452eb103-5efa-4355-90f5-2b7dcc42e4d9",
   "metadata": {},
   "outputs": [
    {
     "name": "stdout",
     "output_type": "stream",
     "text": [
      "(10, 9, 8, 7)\n"
     ]
    }
   ],
   "source": [
    "print(t[-1:-5:-1])"
   ]
  },
  {
   "cell_type": "code",
   "execution_count": 23,
   "id": "26e30271-54c4-4478-afce-c197e6a6e236",
   "metadata": {},
   "outputs": [
    {
     "name": "stdout",
     "output_type": "stream",
     "text": [
      "(1, 2, 3, 4, 5, 6, 7, 8, 9, 10)\n"
     ]
    }
   ],
   "source": [
    "print(t[::1])"
   ]
  },
  {
   "cell_type": "code",
   "execution_count": 24,
   "id": "44203111-d15f-44ad-af13-b6ea1941aacb",
   "metadata": {},
   "outputs": [
    {
     "name": "stdout",
     "output_type": "stream",
     "text": [
      "(10, 8, 6, 4, 2)\n"
     ]
    }
   ],
   "source": [
    "print(t[::-2])"
   ]
  },
  {
   "cell_type": "code",
   "execution_count": 25,
   "id": "790539e8-6d36-4400-9d84-2c4ba62fa217",
   "metadata": {},
   "outputs": [
    {
     "name": "stdout",
     "output_type": "stream",
     "text": [
      "(1, 3, 5, 7, 9)\n"
     ]
    }
   ],
   "source": [
    "print(t[::2])"
   ]
  },
  {
   "cell_type": "code",
   "execution_count": 27,
   "id": "a132194a-cfa6-414e-ade0-674e649e5844",
   "metadata": {},
   "outputs": [],
   "source": [
    "#some methods of tuple with function"
   ]
  },
  {
   "cell_type": "code",
   "execution_count": 29,
   "id": "c5a7883b-a26a-4ab3-b3ad-add32154d4fc",
   "metadata": {},
   "outputs": [
    {
     "name": "stdout",
     "output_type": "stream",
     "text": [
      "3\n"
     ]
    }
   ],
   "source": [
    "#count\n",
    "#the number of times a specified value appears in the tuple\n",
    "\n",
    "t=(1, 2, 3, 2, 2, 4)\n",
    "print(t.count(2)) "
   ]
  },
  {
   "cell_type": "code",
   "execution_count": 30,
   "id": "ae4eb7b5-3ee8-4b87-9bd8-6cb4eae44f21",
   "metadata": {},
   "outputs": [
    {
     "name": "stdout",
     "output_type": "stream",
     "text": [
      "2\n"
     ]
    }
   ],
   "source": [
    "#index\n",
    "#the index of the first occurrence of a specified value.\n",
    "\n",
    "t = (1, 2, 3, 4, 5, 6, 7, 8)\n",
    "print(t.index(3))  "
   ]
  },
  {
   "cell_type": "code",
   "execution_count": 32,
   "id": "7fa4e397-feeb-4c7b-abf0-48925d8412e4",
   "metadata": {},
   "outputs": [],
   "source": [
    "#some oprations of tuple "
   ]
  },
  {
   "cell_type": "code",
   "execution_count": 33,
   "id": "7e4d75aa-7a40-4249-b728-0740cffa1433",
   "metadata": {},
   "outputs": [
    {
     "name": "stdout",
     "output_type": "stream",
     "text": [
      "6\n"
     ]
    }
   ],
   "source": [
    "#len\n",
    "#Returns the number of elements in the tuple.\n",
    "\n",
    "t = (2, 3, 4, 5, 6, 7)\n",
    "print(len(t))  "
   ]
  },
  {
   "cell_type": "code",
   "execution_count": 35,
   "id": "ac25c257-11d0-4cf0-a615-48cbdf11cd40",
   "metadata": {},
   "outputs": [
    {
     "name": "stdout",
     "output_type": "stream",
     "text": [
      "False\n"
     ]
    }
   ],
   "source": [
    "#in keyword\n",
    "#Checks if an element exists in the tuple.\n",
    "\n",
    "t = ('a', 'b', 'c')\n",
    "print('d' in t) "
   ]
  },
  {
   "cell_type": "code",
   "execution_count": 36,
   "id": "e51a5a09-348c-4ba7-b5ea-06868fda554f",
   "metadata": {},
   "outputs": [
    {
     "name": "stdout",
     "output_type": "stream",
     "text": [
      "(20, 30, 40)\n"
     ]
    }
   ],
   "source": [
    "#slicing\n",
    "\n",
    "t = (10, 20, 30, 40, 50)\n",
    "print(t[1:4]) "
   ]
  },
  {
   "cell_type": "code",
   "execution_count": 38,
   "id": "336906dd-5afa-41b5-95b7-e11ed4224781",
   "metadata": {},
   "outputs": [
    {
     "name": "stdout",
     "output_type": "stream",
     "text": [
      "(1, 2, 3, 4, 5, 6, 7, 8, 9, 10)\n"
     ]
    }
   ],
   "source": [
    "#Concatenation\n",
    "\n",
    "t1 = (1, 2, 3, 4, 5)\n",
    "t2 = (6, 7, 8, 9, 10)\n",
    "print(t1 + t2) "
   ]
  },
  {
   "cell_type": "code",
   "execution_count": 39,
   "id": "05051ae2-0272-4154-9150-5e6ee8664812",
   "metadata": {},
   "outputs": [
    {
     "name": "stdout",
     "output_type": "stream",
     "text": [
      "100\n",
      "200\n"
     ]
    }
   ],
   "source": [
    "#Tuple Unpacking\n",
    "\n",
    "t = (100, 200)\n",
    "a, b = t\n",
    "print(a) \n",
    "print(b) "
   ]
  },
  {
   "cell_type": "code",
   "execution_count": 5,
   "id": "1f83135b-884b-47b5-b8e8-9a4523d766af",
   "metadata": {},
   "outputs": [],
   "source": [
    "t=(1,2,3,4,5,6,7,8,9,10)"
   ]
  },
  {
   "cell_type": "code",
   "execution_count": 50,
   "id": "d1340147-0e12-4576-8534-45eb45313328",
   "metadata": {},
   "outputs": [],
   "source": [
    "#some method does not use in tuple"
   ]
  },
  {
   "cell_type": "code",
   "execution_count": 42,
   "id": "7db75a83-b8ab-4bc0-81f3-934d94149113",
   "metadata": {},
   "outputs": [
    {
     "ename": "AttributeError",
     "evalue": "'tuple' object has no attribute 'append'",
     "output_type": "error",
     "traceback": [
      "\u001b[1;31m---------------------------------------------------------------------------\u001b[0m",
      "\u001b[1;31mAttributeError\u001b[0m                            Traceback (most recent call last)",
      "Cell \u001b[1;32mIn[42], line 1\u001b[0m\n\u001b[1;32m----> 1\u001b[0m t\u001b[38;5;241m.\u001b[39mappend(\u001b[38;5;241m100\u001b[39m)\n",
      "\u001b[1;31mAttributeError\u001b[0m: 'tuple' object has no attribute 'append'"
     ]
    }
   ],
   "source": [
    "t.append(100)"
   ]
  },
  {
   "cell_type": "code",
   "execution_count": 43,
   "id": "853257ab-b124-417f-97f2-ab6db154fac1",
   "metadata": {},
   "outputs": [
    {
     "ename": "AttributeError",
     "evalue": "'tuple' object has no attribute 'entend'",
     "output_type": "error",
     "traceback": [
      "\u001b[1;31m---------------------------------------------------------------------------\u001b[0m",
      "\u001b[1;31mAttributeError\u001b[0m                            Traceback (most recent call last)",
      "Cell \u001b[1;32mIn[43], line 1\u001b[0m\n\u001b[1;32m----> 1\u001b[0m t\u001b[38;5;241m.\u001b[39mentend(\u001b[38;5;241m100\u001b[39m,\u001b[38;5;241m200\u001b[39m,\u001b[38;5;241m300\u001b[39m)\n",
      "\u001b[1;31mAttributeError\u001b[0m: 'tuple' object has no attribute 'entend'"
     ]
    }
   ],
   "source": [
    "t.entend(100,200,300)"
   ]
  },
  {
   "cell_type": "code",
   "execution_count": 49,
   "id": "b4ef6d4a-a46c-4c39-b913-4397d001cb05",
   "metadata": {},
   "outputs": [
    {
     "ename": "AttributeError",
     "evalue": "'tuple' object has no attribute 'pop'",
     "output_type": "error",
     "traceback": [
      "\u001b[1;31m---------------------------------------------------------------------------\u001b[0m",
      "\u001b[1;31mAttributeError\u001b[0m                            Traceback (most recent call last)",
      "Cell \u001b[1;32mIn[49], line 1\u001b[0m\n\u001b[1;32m----> 1\u001b[0m t\u001b[38;5;241m.\u001b[39mpop(\u001b[38;5;241m30\u001b[39m)\n\u001b[0;32m      2\u001b[0m \u001b[38;5;28mprint\u001b[39m(t)\n",
      "\u001b[1;31mAttributeError\u001b[0m: 'tuple' object has no attribute 'pop'"
     ]
    }
   ],
   "source": [
    "t.pop(30)\n",
    "print(t)"
   ]
  },
  {
   "cell_type": "code",
   "execution_count": 48,
   "id": "acfb6f0b-4607-4502-aa2b-dfa63f51d3d8",
   "metadata": {},
   "outputs": [
    {
     "ename": "AttributeError",
     "evalue": "'tuple' object has no attribute 'remove'",
     "output_type": "error",
     "traceback": [
      "\u001b[1;31m---------------------------------------------------------------------------\u001b[0m",
      "\u001b[1;31mAttributeError\u001b[0m                            Traceback (most recent call last)",
      "Cell \u001b[1;32mIn[48], line 1\u001b[0m\n\u001b[1;32m----> 1\u001b[0m t\u001b[38;5;241m.\u001b[39mremove(\u001b[38;5;241m40\u001b[39m)\n\u001b[0;32m      2\u001b[0m \u001b[38;5;28mprint\u001b[39m(t)\n",
      "\u001b[1;31mAttributeError\u001b[0m: 'tuple' object has no attribute 'remove'"
     ]
    }
   ],
   "source": [
    "t.remove(40)\n",
    "print(t)"
   ]
  },
  {
   "cell_type": "code",
   "execution_count": 47,
   "id": "0a8a17c7-72fd-44e6-abad-43758d98ac20",
   "metadata": {},
   "outputs": [
    {
     "ename": "TypeError",
     "evalue": "'tuple' object doesn't support item deletion",
     "output_type": "error",
     "traceback": [
      "\u001b[1;31m---------------------------------------------------------------------------\u001b[0m",
      "\u001b[1;31mTypeError\u001b[0m                                 Traceback (most recent call last)",
      "Cell \u001b[1;32mIn[47], line 1\u001b[0m\n\u001b[1;32m----> 1\u001b[0m \u001b[38;5;28;01mdel\u001b[39;00m t[\u001b[38;5;241m4\u001b[39m]\n\u001b[0;32m      2\u001b[0m \u001b[38;5;28mprint\u001b[39m(t)\n",
      "\u001b[1;31mTypeError\u001b[0m: 'tuple' object doesn't support item deletion"
     ]
    }
   ],
   "source": [
    "del t[4]\n",
    "print(t)"
   ]
  },
  {
   "cell_type": "code",
   "execution_count": 6,
   "id": "15a98e44-9e8e-4a05-b4eb-425905fe8ab9",
   "metadata": {},
   "outputs": [
    {
     "ename": "NameError",
     "evalue": "name 't' is not defined",
     "output_type": "error",
     "traceback": [
      "\u001b[1;31m---------------------------------------------------------------------------\u001b[0m",
      "\u001b[1;31mNameError\u001b[0m                                 Traceback (most recent call last)",
      "Cell \u001b[1;32mIn[6], line 2\u001b[0m\n\u001b[0;32m      1\u001b[0m \u001b[38;5;28;01mdel\u001b[39;00m t\n\u001b[1;32m----> 2\u001b[0m \u001b[38;5;28mprint\u001b[39m(t)\n",
      "\u001b[1;31mNameError\u001b[0m: name 't' is not defined"
     ]
    }
   ],
   "source": [
    "del t\n",
    "print(t)"
   ]
  },
  {
   "cell_type": "code",
   "execution_count": null,
   "id": "006c81ce-cc73-458b-9ce5-44c83f799933",
   "metadata": {},
   "outputs": [],
   "source": []
  }
 ],
 "metadata": {
  "kernelspec": {
   "display_name": "Python 3 (ipykernel)",
   "language": "python",
   "name": "python3"
  },
  "language_info": {
   "codemirror_mode": {
    "name": "ipython",
    "version": 3
   },
   "file_extension": ".py",
   "mimetype": "text/x-python",
   "name": "python",
   "nbconvert_exporter": "python",
   "pygments_lexer": "ipython3",
   "version": "3.13.5"
  }
 },
 "nbformat": 4,
 "nbformat_minor": 5
}
